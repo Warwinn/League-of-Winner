{
 "metadata": {
  "language_info": {
   "codemirror_mode": {
    "name": "ipython",
    "version": 3
   },
   "file_extension": ".py",
   "mimetype": "text/x-python",
   "name": "python",
   "nbconvert_exporter": "python",
   "pygments_lexer": "ipython3",
   "version": "3.8.10"
  },
  "orig_nbformat": 4,
  "kernelspec": {
   "name": "python3",
   "display_name": "Python 3.8.10 64-bit ('env': venv)"
  },
  "interpreter": {
   "hash": "5ee0532a10fc497e18de09fb05ec26e77995155f15f39cb577855fa62b1053ae"
  }
 },
 "nbformat": 4,
 "nbformat_minor": 2,
 "cells": [
  {
   "cell_type": "code",
   "execution_count": 1,
   "metadata": {},
   "outputs": [],
   "source": [
    "#Required imports\n",
    "import requests\n",
    "import json\n",
    "import time\n",
    "import pandas as pd\n",
    "import sys"
   ]
  },
  {
   "cell_type": "code",
   "execution_count": 17,
   "metadata": {},
   "outputs": [],
   "source": [
    "sys.path.append(\"/data\")"
   ]
  },
  {
   "cell_type": "code",
   "execution_count": 2,
   "metadata": {},
   "outputs": [],
   "source": [
    "#Information for Riot API\n",
    "api_key = \"RGAPI-e5a2a8dd-6375-4751-a4d6-e0d3f8d457b0\"\n",
    "region = \"EUW1\""
   ]
  },
  {
   "cell_type": "code",
   "execution_count": 3,
   "metadata": {},
   "outputs": [],
   "source": [
    "url_pull = (\n",
    "    f\"https://{region}.api.riotgames.com/lol/league/v4/entries/\"\n",
    "    f\"RANKED_SOLO_5x5/DIAMOND/I?page=1&api_key={api_key}\")\n",
    "profile_list = requests.get(url_pull).json()\n",
    "num_profiles = len(profile_list)\n",
    "summID_list = []\n",
    "for profile in range(0,num_profiles):\n",
    "        summID_list.append(profile_list[profile]['summonerId'])\n",
    "df = pd.DataFrame(summID_list,columns = [\"Summoner ID\"])\n"
   ]
  },
  {
   "cell_type": "code",
   "execution_count": 4,
   "metadata": {},
   "outputs": [
    {
     "output_type": "execute_result",
     "data": {
      "text/plain": [
       "'juSAMr59gVJbZnDhrhStLgXEP_OFGfUUMBX2IeWN4IJJcU9L'"
      ]
     },
     "metadata": {},
     "execution_count": 4
    }
   ],
   "source": [
    "summID = df[\"Summoner ID\"][0]\n",
    "summID"
   ]
  },
  {
   "cell_type": "code",
   "execution_count": 5,
   "metadata": {},
   "outputs": [
    {
     "output_type": "execute_result",
     "data": {
      "text/plain": [
       "'SJWX7OkGNlyLqvP7NP4VktDSl-Bhf5zYNJ2s5NcxWCy9CFI'"
      ]
     },
     "metadata": {},
     "execution_count": 5
    }
   ],
   "source": [
    "url_acct_pull = (\n",
    "    f\"https://{region}.api.riotgames.com/lol/summoner/\"\n",
    "    f\"v4/summoners/{summID}?api_key={api_key}\")\n",
    "\n",
    "account_info = requests.get(url_acct_pull).json()\n",
    "acctid = account_info[\"accountId\"]\n",
    "acctid"
   ]
  },
  {
   "cell_type": "code",
   "execution_count": 7,
   "metadata": {},
   "outputs": [],
   "source": [
    "matchID_list = []\n",
    "url_match_pull = (\n",
    "    f\"https://{region}.api.riotgames.com/lol/match/v4/\"\n",
    "    f\"matchlists/by-account/{acctid}?queue=420&api_key={api_key}\")\n",
    "\n",
    "match_history = requests.get(url_match_pull).json()\n",
    "for i in range(0,5):        \n",
    "    try:\n",
    "        match_id = match_history['matches'][i]['gameId']\n",
    "        matchID_list.append(match_id)\n",
    "        \n",
    "    except KeyError:\n",
    "        print(match_history)\n",
    "        print(\"KeyError occured with account:\",acctid) \n",
    "        pull_errors.append(match_history)"
   ]
  },
  {
   "cell_type": "code",
   "execution_count": 12,
   "metadata": {},
   "outputs": [
    {
     "output_type": "execute_result",
     "data": {
      "text/plain": [
       "5398647788"
      ]
     },
     "metadata": {},
     "execution_count": 12
    }
   ],
   "source": [
    "match = matchID_list[0]\n",
    "match"
   ]
  },
  {
   "cell_type": "code",
   "execution_count": 18,
   "metadata": {},
   "outputs": [
    {
     "output_type": "error",
     "ename": "FileNotFoundError",
     "evalue": "[Errno 2] No such file or directory: '/data/timeline/5398647788.json'",
     "traceback": [
      "\u001b[0;31m---------------------------------------------------------------------------\u001b[0m",
      "\u001b[0;31mFileNotFoundError\u001b[0m                         Traceback (most recent call last)",
      "\u001b[0;32m/tmp/ipykernel_54209/2199497631.py\u001b[0m in \u001b[0;36m<module>\u001b[0;34m\u001b[0m\n\u001b[1;32m      5\u001b[0m )\n\u001b[1;32m      6\u001b[0m \u001b[0mmatch_timeline\u001b[0m \u001b[0;34m=\u001b[0m \u001b[0mrequests\u001b[0m\u001b[0;34m.\u001b[0m\u001b[0mget\u001b[0m\u001b[0;34m(\u001b[0m\u001b[0murl_pull_match\u001b[0m\u001b[0;34m)\u001b[0m\u001b[0;34m.\u001b[0m\u001b[0mjson\u001b[0m\u001b[0;34m(\u001b[0m\u001b[0;34m)\u001b[0m\u001b[0;34m\u001b[0m\u001b[0;34m\u001b[0m\u001b[0m\n\u001b[0;32m----> 7\u001b[0;31m \u001b[0;32mwith\u001b[0m \u001b[0mopen\u001b[0m\u001b[0;34m(\u001b[0m\u001b[0;34mf'/data/timeline/{match}.json'\u001b[0m\u001b[0;34m,\u001b[0m \u001b[0;34m'w'\u001b[0m\u001b[0;34m)\u001b[0m \u001b[0;32mas\u001b[0m \u001b[0moutfile\u001b[0m\u001b[0;34m:\u001b[0m\u001b[0;34m\u001b[0m\u001b[0;34m\u001b[0m\u001b[0m\n\u001b[0m\u001b[1;32m      8\u001b[0m     \u001b[0mjson\u001b[0m\u001b[0;34m.\u001b[0m\u001b[0mdump\u001b[0m\u001b[0;34m(\u001b[0m\u001b[0mmatch_timeline\u001b[0m\u001b[0;34m,\u001b[0m \u001b[0moutfile\u001b[0m\u001b[0;34m)\u001b[0m\u001b[0;34m\u001b[0m\u001b[0;34m\u001b[0m\u001b[0m\n\u001b[1;32m      9\u001b[0m \u001b[0;34m\u001b[0m\u001b[0m\n",
      "\u001b[0;31mFileNotFoundError\u001b[0m: [Errno 2] No such file or directory: '/data/timeline/5398647788.json'"
     ]
    }
   ],
   "source": [
    "time.sleep(1.5)\n",
    "url_pull_match = (\n",
    "    f\"https://{region}.api.riotgames.com/lol/match/v4/\"\n",
    "    f\"timelines/by-match/{match}?api_key={api_key}\"\n",
    ")\n",
    "match_timeline = requests.get(url_pull_match).json()\n",
    "with open(f'/data/timeline/{match}.json', 'w') as outfile:\n",
    "    json.dump(match_timeline, outfile)\n",
    "\n",
    "time.sleep(1.5)\n",
    "\n",
    "url_match_global = (\n",
    "    f\"https://{region}.api.riotgames.com/lol/match/v4/\"\n",
    "    f\"matches/{match}?api_key={api_key}\"\n",
    ")\n",
    "\n",
    "match_global = requests.get(url_match_global).json()\n",
    "with open(f'/data/global/{match}.json', 'w') as outfile:\n",
    "    json.dump(match_global, outfile)"
   ]
  },
  {
   "cell_type": "code",
   "execution_count": null,
   "metadata": {},
   "outputs": [],
   "source": []
  }
 ]
}